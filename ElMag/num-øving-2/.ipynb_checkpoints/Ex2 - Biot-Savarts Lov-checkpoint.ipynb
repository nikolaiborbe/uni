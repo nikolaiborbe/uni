{
 "cells": [
  {
   "cell_type": "markdown",
   "metadata": {},
   "source": [
    "# Biot-Savarts Lov"
   ]
  },
  {
   "cell_type": "markdown",
   "metadata": {},
   "source": [
    "### FY1003 Elektrisitet og Magnetisme - Numerisk Øving 2"
   ]
  },
  {
   "cell_type": "markdown",
   "metadata": {},
   "source": [
    "Magnetfelt er generelt vanskelig å studere analytisk, hvor analytiske resultater er kjent kun for noen få systemer. Denne øvingen handler om å studere to av disse systemene ved å se på magnetfeltet rundt strømførende ledninger i to forskjellige orienteringer. Den første oppgaven innebærer å diskretisere og utføre et numerisk integral av en kvadratisk ledning parallelt med planet. Den andre oppgaven er valgfri, og omhandler en ledning som står vinkelrett på planet, siden $\\nabla \\times \\vec{B} \\neq 0$ vil dette føre til noen numeriske utfordringer mht. retningen på feltlinjene. Det forventes kjennskap til plotting av funksjoner i to dimensjoner, samt bruk av to-dimensjonale arrays i form av meshgrids."
   ]
  },
  {
   "cell_type": "markdown",
   "metadata": {},
   "source": [
    "### Oppgave 1: Numerisk Integrasjon"
   ]
  },
  {
   "attachments": {
    "image.png": {
     "image/png": "[encoded data removed]"
    }
   },
   "cell_type": "markdown",
   "metadata": {},
   "source": [
    "![image.png](attachment:image.png)\n",
    "\n",
    "En av de enklere konfigurasjonene vi kan se for oss er en uendelig tynn kvadratisk ledning med konstant strøm, $I$, retning med klokka, som utspenner et kvadrat med sidelengde $L$ sentrert i origo (se figur over). Fra Biot-Savarts lov har vi at magnetfeltet rundt en uendelig tynn ledning er gitt ved\n",
    "\\begin{equation}\n",
    "\\vec{B}(\\vec{r}) = \\frac{\\mu_0I}{4 \\pi} \\int_{\\textit{C}}\\frac{\\text{d}\\vec{l} \\times \\vec{r}'}{r'^3} \\text{,}\n",
    "\\end{equation}\n",
    "der $\\vec{r}':=\\vec{r}-\\vec{l}$ er avstanden fra $\\vec{r}$ til ledningen, og integralet er tatt over hele ledningen."
   ]
  },
  {
   "cell_type": "code",
   "execution_count": null,
   "metadata": {},
   "outputs": [],
   "source": []
  },
  {
   "cell_type": "markdown",
   "metadata": {},
   "source": [
    "$\\textbf{a)}$ I denne orienteringen vil magnetfeltet alltid stå vinkelrett på planet slik at vi trenger kun å vite absoluttverdien, og i hvilke områder det peker opp eller ned. Med hensyn til dette, gjør om integralet over ledningen til en sum over diskrete punkter i ledningen. "
   ]
  },
  {
   "cell_type": "markdown",
   "metadata": {
    "collapsed": true,
    "jupyter": {
     "outputs_hidden": true
    }
   },
   "source": [
    "\\begin{equation}\n",
    "?\n",
    "\\end{equation}"
   ]
  },
  {
   "cell_type": "markdown",
   "metadata": {},
   "source": [
    "$\\textbf{b)}$  Utfør et variabelskifte på magnetfeltet og posisjonen slik at størrelsene blir dimensjonsløse."
   ]
  },
  {
   "cell_type": "markdown",
   "metadata": {
    "collapsed": true,
    "jupyter": {
     "outputs_hidden": true
    }
   },
   "source": [
    "\\begin{equation}\n",
    "?\n",
    "\\end{equation}"
   ]
  },
  {
   "cell_type": "markdown",
   "metadata": {},
   "source": [
    "$\\textbf{c)}$ En av utfordringene med et problem som dette er å diskretisere geometrien til ledningen. Her har ledningen en ganske enkel form, nemlig et kvadrat, men i prinsippet vil koden kunne fungere for en vilkårlig lukket løkke. Med tanke på at integralet blir til en sum over ledningen, lag en array som inneholder posisjonen til alle de diskrete punktene i ledningen. "
   ]
  },
  {
   "cell_type": "code",
   "execution_count": 9,
   "metadata": {},
   "outputs": [],
   "source": [
    "import numpy as np\n",
    "import matplotlib.pyplot as plt"
   ]
  },
  {
   "cell_type": "code",
   "execution_count": 28,
   "metadata": {},
   "outputs": [],
   "source": [
    "dl = 0.1\n",
    "L = 1"
   ]
  },
  {
   "cell_type": "code",
   "execution_count": 11,
   "metadata": {},
   "outputs": [
    {
     "data": {
      "text/plain": [
       "[(1, 0.49999999999999956),\n",
       " (1, 0.5999999999999996),\n",
       " (1, 0.6999999999999997),\n",
       " (1, 0.7999999999999996),\n",
       " (1, 0.8999999999999995)]"
      ]
     },
     "execution_count": 11,
     "metadata": {},
     "output_type": "execute_result"
    }
   ],
   "source": [
    "top = [(x, 1) for x in np.arange(-L, L, dl)]\n",
    "bottom = [(x, -1) for x in np.arange(-L, L, dl)]\n",
    "left = [(-1, y) for y in np.arange(-L, L, dl)]\n",
    "right = [(1, y) for y in np.arange(-L, L, dl)]\n",
    "\n",
    "points = top + bottom + left + right\n",
    "points[-5:]"
   ]
  },
  {
   "cell_type": "markdown",
   "metadata": {},
   "source": [
    "$\\textbf{d)}$ Gjennomfør den numeriske integrasjonen, og plot styrken av magnetfeltet for $x \\in [-2L,2L]$ og $y \\in [-2L,2L]$. Slik som i oppgave **1c)** i forrige numerisk øving vil magnetfeltet singulært nære ledningen, dette kan håndteres på lignende vis. Husk å ta hensyn til fortegn innenfor/utenfor løkken."
   ]
  },
  {
   "cell_type": "code",
   "execution_count": 33,
   "metadata": {},
   "outputs": [],
   "source": [
    "# variables\n",
    "mu0 = 1\n",
    "I = 1"
   ]
  },
  {
   "cell_type": "code",
   "execution_count": 42,
   "metadata": {},
   "outputs": [
    {
     "name": "stdout",
     "output_type": "stream",
     "text": [
      "1\n"
     ]
    },
    {
     "data": {
      "text/plain": [
       "array([[2.88562299e-06, 3.35260759e-06, 3.92603643e-06, 4.63804879e-06,\n",
       "        5.53316756e-06, 6.67424285e-06, 8.15189229e-06, 1.00999331e-05,\n",
       "        1.27214466e-05, 1.63344788e-05, 2.14557124e-05, 2.89616224e-05,\n",
       "        4.04181247e-05, 5.88057865e-05, 9.02654267e-05, 1.48808885e-04,\n",
       "        2.71103835e-04, 5.73741465e-04, 1.55833325e-03, 6.96284681e-03,\n",
       "        1.37437284e-01, 1.37437284e-01, 6.96284681e-03, 1.55833325e-03,\n",
       "        5.73741465e-04, 2.71103835e-04, 1.48808885e-04, 9.02654267e-05,\n",
       "        5.88057865e-05, 4.04181247e-05, 2.89616224e-05, 2.14557124e-05,\n",
       "        1.63344788e-05, 1.27214466e-05, 1.00999331e-05, 8.15189229e-06,\n",
       "        6.67424285e-06, 5.53316756e-06, 4.63804879e-06, 3.92603643e-06]])"
      ]
     },
     "execution_count": 42,
     "metadata": {},
     "output_type": "execute_result"
    }
   ],
   "source": [
    "# X, Y = np.meshgrid(np.arange(-2*L, 2*L, dl), np.arange(-2*L, 2*L, dl))\n",
    "\n",
    "x_vals = [x for x in np.arange(-2, 2, dl)]\n",
    "y_vals = [y for y in np.arange(-2, 2, dl)]\n",
    "\n",
    "G = np.array([np.arange(-2, 2, dl)*40])\n",
    "print(len(G))\n",
    "\n",
    "B = np.zeros_like(G)\n",
    "\n",
    "# corners = [(-1, -1j), (1, -1j), (1, 1j), (1, -1j)] <- stupid solution\n",
    "\n",
    "# for bottom wire\n",
    "# for step on the wire\n",
    "for dl_step in np.arange(-L, L, dl):\n",
    "\n",
    "    # for row on grid\n",
    "    for r in range(len(G)):\n",
    "        # for column on grid\n",
    "        for c in range(len(G[0])):\n",
    "\n",
    "            # distance should be distance from line segment to place on grid\n",
    "            x_distance = dl_step - 1\n",
    "            y_distance = - L - 1 + G[r][c]\n",
    "            \n",
    "            R = np.sqrt(x_distance**2 + y_distance**2)\n",
    "            B[r][c] += ((mu0*I)/(4*np.pi)) * 1/R**3\n",
    "\n",
    "B"
   ]
  },
  {
   "cell_type": "markdown",
   "metadata": {},
   "source": [
    "### Ekstraoppgave: Ledning vinkelrett på planet"
   ]
  },
  {
   "cell_type": "markdown",
   "metadata": {},
   "source": [
    "En annen kjent konfigurasjon er en uendelig lang og uendelig tynn ledning orientert vinkelrett på planet med konstant strøm, $I$. Styrken på magnetfeltet vil da være trivielt være $|\\vec{B}(\\vec{r})| = \\frac{\\mu_0I}{4 \\pi r^2}$, utfordringen med en numerisk formulering av denne situasjonen ligger i å beregne *retningen* magnetfeltet går i. "
   ]
  },
  {
   "cell_type": "markdown",
   "metadata": {},
   "source": [
    "$\\textbf{a)}$ Plot magnetfeltet rundt en uendelig lang og uendelig tynn strømførende leder som står vinkelrett på planet i origo med konstant strøm, $I$, retning ut av planet."
   ]
  },
  {
   "cell_type": "code",
   "execution_count": null,
   "metadata": {
    "collapsed": true,
    "jupyter": {
     "outputs_hidden": true
    }
   },
   "outputs": [],
   "source": []
  },
  {
   "cell_type": "markdown",
   "metadata": {},
   "source": [
    "$\\textbf{b)}$ Innfør flere ledninger i systemet, og se på hvordan magnetfeltet varier mht. posisjon og strømretning."
   ]
  },
  {
   "cell_type": "code",
   "execution_count": null,
   "metadata": {
    "collapsed": true,
    "jupyter": {
     "outputs_hidden": true
    }
   },
   "outputs": [],
   "source": []
  }
 ],
 "metadata": {
  "kernelspec": {
   "display_name": "Python 3 (ipykernel)",
   "language": "python",
   "name": "python3"
  },
  "language_info": {
   "codemirror_mode": {
    "name": "ipython",
    "version": 3
   },
   "file_extension": ".py",
   "mimetype": "text/x-python",
   "name": "python",
   "nbconvert_exporter": "python",
   "pygments_lexer": "ipython3",
   "version": "3.11.1"
  }
 },
 "nbformat": 4,
 "nbformat_minor": 4
}
